{
 "cells": [
  {
   "cell_type": "markdown",
   "id": "8675ff74-6e82-46a7-b669-ea79cf145c71",
   "metadata": {},
   "source": [
    "# Building a Chatbot with NLP and LSTM network\n",
    "### Importing the necessary libraries"
   ]
  },
  {
   "cell_type": "code",
   "execution_count": 1,
   "id": "26680f54-582f-47b0-bfd9-42e6064aa381",
   "metadata": {},
   "outputs": [],
   "source": [
    "import tensorflow as tf\n",
    "import numpy as np\n",
    "import json\n",
    "import re\n",
    "physical_devices = tf.config.experimental.list_physical_devices('GPU')\n",
    "tf.config.experimental.set_memory_growth(physical_devices[0], enable = True)\n",
    "from tensorflow.keras.models import Model\n",
    "from tensorflow.keras.layers import Input, Embedding, Dense, GRU, LSTM, Masking\n",
    "from keras.preprocessing.text import tokenizer_from_json"
   ]
  },
  {
   "cell_type": "markdown",
   "id": "e0ea1db9-b3e2-4894-8f60-d377761fc52c",
   "metadata": {},
   "source": [
    "### Importing preprocessed data"
   ]
  },
  {
   "cell_type": "code",
   "execution_count": 2,
   "id": "1974474f-4d50-488c-87e5-5932c71a72ab",
   "metadata": {},
   "outputs": [],
   "source": [
    "with open('./preprocessed_data/questions.json', 'r') as f:\n",
    "    json_data = json.load(f)\n",
    "    question_corpus = tokenizer_from_json(json_data)\n",
    "    f.close()\n",
    "\n",
    "with open('./preprocessed_data/answers.json', 'r') as f:\n",
    "    json_data = json.load(f)\n",
    "    answer_corpus = tokenizer_from_json(json_data)\n",
    "    f.close()\n",
    "\n",
    "npzfile = np.load('./preprocessed_data/data.npz')"
   ]
  },
  {
   "cell_type": "markdown",
   "id": "60962947-5cc6-4eb9-8b77-837fa6f6d672",
   "metadata": {},
   "source": [
    "#### Some unknown reason make the corpus contain all words and labels in raw data rather than a vocabulary with limited size so we have to build the dict manually"
   ]
  },
  {
   "cell_type": "code",
   "execution_count": 3,
   "id": "cca29893-f4f7-4968-9b31-31b5db9d9918",
   "metadata": {},
   "outputs": [],
   "source": [
    "q_word2ind = {e:i for e, i in question_corpus.word_index.items() if i <= 5000}\n",
    "q_ind2word = {e:i for i, e in q_word2ind.items()}\n",
    "a_word2ind = {e:i for e, i in answer_corpus.word_index.items() if i <= 5000}\n",
    "a_ind2word = {e:i for i, e in a_word2ind.items()}"
   ]
  },
  {
   "cell_type": "markdown",
   "id": "57dc6410-b786-406e-89bf-0ea3188d9bf5",
   "metadata": {},
   "source": [
    "### Creating the encoder\n",
    "Notice that the encoder at here is totally same with the encoder in training model"
   ]
  },
  {
   "cell_type": "code",
   "execution_count": 4,
   "id": "de89b357-e8f9-42ed-9154-27bed8a75351",
   "metadata": {},
   "outputs": [],
   "source": [
    "def create_encoder(inputdim, embeddingsize, inputlen, n_units):\n",
    "    \n",
    "    # Encoder\n",
    "    encoder_input = Input((inputlen,))\n",
    "    \n",
    "    # We use embedding layer to vectorize the word.\n",
    "    encoder_embed = Embedding(inputdim + 1, embeddingsize)(encoder_input)\n",
    "    \n",
    "    # Add mask layer because we should ignore the input of those padding 0\n",
    "    encoder_mask = Masking()(encoder_embed)\n",
    "    \n",
    "    # Encoder with LSTM model\n",
    "    encoder = LSTM(n_units, return_state = True)\n",
    "    _, encoder_h, encoder_c = encoder(encoder_mask)\n",
    "    \n",
    "    encoder = Model(encoder_input, [encoder_h, encoder_c])\n",
    "    \n",
    "    return encoder"
   ]
  },
  {
   "cell_type": "markdown",
   "id": "eeb29e4c-aaba-4176-801a-631e10748667",
   "metadata": {},
   "source": [
    "### Creating the decoder\n",
    "Notice that we use inference model at here, which is a little different with the decoder in training model"
   ]
  },
  {
   "cell_type": "code",
   "execution_count": 5,
   "id": "63c12dbc-e567-4539-8a4c-df9358f79954",
   "metadata": {},
   "outputs": [],
   "source": [
    "def create_decoder(inputdim, embeddingsize, n_units):\n",
    "    \n",
    "    # The size of input at here is 1 because we want to predict the answer step by step, each time only input 1 word\n",
    "    decoder_input = Input((1,))\n",
    "    \n",
    "    # Input of encoder state vectors\n",
    "    initial_stateh = Input((n_units,))\n",
    "    initial_statec = Input((n_units,))\n",
    "    encoder_state = [initial_stateh, initial_statec]\n",
    "    \n",
    "    # Vectorizing input answers\n",
    "    decoder_embed = Embedding(inputdim + 1, embeddingsize, input_length = 1)(decoder_input)\n",
    "    decoder_mask = Masking()(decoder_embed)\n",
    "    decoder = LSTM(n_units, return_sequences = True, return_state = True)\n",
    "    \n",
    "    # In training model, we do not use the state h & c. but in inference model, we do\n",
    "    decoder_output, decoder_h, decoder_c = decoder(decoder_mask,initial_state = encoder_state)\n",
    "    \n",
    "    # Using activation function as softmax layer, predict the most potential sentence of reply\n",
    "    decoder_dense = Dense(inputdim, activation = 'softmax')\n",
    "    decoder_output_ = decoder_dense(decoder_output)\n",
    "    \n",
    "    decoder = Model([decoder_input, initial_stateh, initial_statec], [decoder_output_, decoder_h, decoder_c])\n",
    "    \n",
    "    return decoder"
   ]
  },
  {
   "cell_type": "markdown",
   "id": "ee923ac6-94ff-484f-b7af-f9ed22e58243",
   "metadata": {},
   "source": [
    "### Defining the hyperparameters"
   ]
  },
  {
   "cell_type": "code",
   "execution_count": 6,
   "id": "bf33be64-61af-46cf-be1d-1f670903a94e",
   "metadata": {},
   "outputs": [],
   "source": [
    "n_unit = 256\n",
    "embedding_size = 128\n",
    "vocab_size = 1000 \n",
    "question_len = npzfile['arr_0'].shape[1]\n",
    "answer_len = npzfile['arr_1'].shape[1]"
   ]
  },
  {
   "cell_type": "code",
   "execution_count": 7,
   "id": "119651e4-2a78-499c-8cb3-6500423fe385",
   "metadata": {},
   "outputs": [],
   "source": [
    "encoder = create_encoder(vocab_size, embedding_size, question_len, n_unit)"
   ]
  },
  {
   "cell_type": "code",
   "execution_count": 8,
   "id": "abc46f8d-1f95-41ad-a9d4-2aa15c095f4f",
   "metadata": {},
   "outputs": [
    {
     "name": "stdout",
     "output_type": "stream",
     "text": [
      "Model: \"model\"\n",
      "_________________________________________________________________\n",
      "Layer (type)                 Output Shape              Param #   \n",
      "=================================================================\n",
      "input_1 (InputLayer)         [(None, 21)]              0         \n",
      "_________________________________________________________________\n",
      "embedding (Embedding)        (None, 21, 128)           128128    \n",
      "_________________________________________________________________\n",
      "masking (Masking)            (None, 21, 128)           0         \n",
      "_________________________________________________________________\n",
      "lstm (LSTM)                  [(None, 256), (None, 256) 394240    \n",
      "=================================================================\n",
      "Total params: 522,368\n",
      "Trainable params: 522,368\n",
      "Non-trainable params: 0\n",
      "_________________________________________________________________\n"
     ]
    }
   ],
   "source": [
    "encoder.summary()"
   ]
  },
  {
   "cell_type": "code",
   "execution_count": 9,
   "id": "ccf48f0f-c996-4d05-9eb8-727d69e5f948",
   "metadata": {},
   "outputs": [],
   "source": [
    "encoder.load_weights('./trained_model/lstm_encoder_test1000.h5')"
   ]
  },
  {
   "cell_type": "code",
   "execution_count": 10,
   "id": "91ac8ab3-449d-4a9d-a4b4-e73919ad90b1",
   "metadata": {},
   "outputs": [],
   "source": [
    "decoder = create_decoder(vocab_size, embedding_size, n_unit)"
   ]
  },
  {
   "cell_type": "code",
   "execution_count": 11,
   "id": "731f13e8-fab7-41dd-84f8-cace2e4c9cd1",
   "metadata": {},
   "outputs": [
    {
     "name": "stdout",
     "output_type": "stream",
     "text": [
      "Model: \"model_1\"\n",
      "__________________________________________________________________________________________________\n",
      "Layer (type)                    Output Shape         Param #     Connected to                     \n",
      "==================================================================================================\n",
      "input_2 (InputLayer)            [(None, 1)]          0                                            \n",
      "__________________________________________________________________________________________________\n",
      "embedding_1 (Embedding)         (None, 1, 128)       128128      input_2[0][0]                    \n",
      "__________________________________________________________________________________________________\n",
      "masking_1 (Masking)             (None, 1, 128)       0           embedding_1[0][0]                \n",
      "__________________________________________________________________________________________________\n",
      "input_3 (InputLayer)            [(None, 256)]        0                                            \n",
      "__________________________________________________________________________________________________\n",
      "input_4 (InputLayer)            [(None, 256)]        0                                            \n",
      "__________________________________________________________________________________________________\n",
      "lstm_1 (LSTM)                   [(None, 1, 256), (No 394240      masking_1[0][0]                  \n",
      "                                                                 input_3[0][0]                    \n",
      "                                                                 input_4[0][0]                    \n",
      "__________________________________________________________________________________________________\n",
      "dense (Dense)                   (None, 1, 1000)      257000      lstm_1[0][0]                     \n",
      "==================================================================================================\n",
      "Total params: 779,368\n",
      "Trainable params: 779,368\n",
      "Non-trainable params: 0\n",
      "__________________________________________________________________________________________________\n"
     ]
    }
   ],
   "source": [
    "decoder.summary()"
   ]
  },
  {
   "cell_type": "code",
   "execution_count": 12,
   "id": "1b0f7e41-b0bc-40d0-bfb9-9612ca986600",
   "metadata": {},
   "outputs": [],
   "source": [
    "decoder.load_weights('./trained_model/lstm_decoder_test1000.h5')"
   ]
  },
  {
   "cell_type": "code",
   "execution_count": 13,
   "id": "3cd465e1-acdd-4cd9-ad99-29bd2b97be1d",
   "metadata": {},
   "outputs": [],
   "source": [
    "def clean_text(text):\n",
    "\n",
    "    # Remove unnecessary characters in sentences\n",
    "    \n",
    "    text = text.lower().strip()\n",
    "    text = re.sub(r\"i'm\", \"i am\", text)\n",
    "    text = re.sub(r\"he's\", \"he is\", text)\n",
    "    text = re.sub(r\"she's\", \"she is\", text)\n",
    "    text = re.sub(r\"it's\", \"it is\", text)\n",
    "    text = re.sub(r\"that's\", \"that is\", text)\n",
    "    text = re.sub(r\"what's\", \"what is\", text)\n",
    "    text = re.sub(r\"where's\", \"where is\", text)\n",
    "    text = re.sub(r\"there's\", \"there is\", text)\n",
    "    text = re.sub(r\"how's\", \"how is\", text)\n",
    "    text = re.sub(r\"\\'ll\", \" will\", text)\n",
    "    text = re.sub(r\"\\'ve\", \" have\", text)\n",
    "    text = re.sub(r\"\\'re\", \" are\", text)\n",
    "    text = re.sub(r\"\\'d\", \" would\", text)\n",
    "    text = re.sub(r\"\\'re\", \" are\", text)\n",
    "    text = re.sub(r\"won't\", \"will not\", text)\n",
    "    text = re.sub(r\"can't\", \"cannot\", text)\n",
    "    text = re.sub(r\"n't\", \" not\", text)\n",
    "    text = re.sub(r\"n'\", \"ng\", text)\n",
    "    text = re.sub(r\"'bout\", \"about\", text)\n",
    "    text = re.sub(r\"'til\", \"until\", text)\n",
    "    text = re.sub(r'[\" \"]+', \" \", text)\n",
    "    text = re.sub(r\"[-()\\\"#/@;:<>{}`+=~|.!?,]\", \"\", text)\n",
    "    \n",
    "    return text"
   ]
  },
  {
   "cell_type": "markdown",
   "id": "17e799c8-b65e-431d-9f65-fa2e29d55f9e",
   "metadata": {},
   "source": [
    "### Evaluating the chat"
   ]
  },
  {
   "cell_type": "code",
   "execution_count": 14,
   "id": "d57d6112-358b-4d69-ab80-3f64f8fef3fc",
   "metadata": {},
   "outputs": [],
   "source": [
    "def evaluate(sentence):\n",
    "    \n",
    "    # Cleaning the input text\n",
    "    sentence = clean_text(sentence) \n",
    "    encoder_inputs=[]\n",
    "    \n",
    "    # Converting the input text to index sequence and use unk replace the word not in vocabulary\n",
    "    for word in sentence.split():\n",
    "        if word in q_word2ind:\n",
    "            encoder_inputs.append(q_word2ind[word])\n",
    "        elif word not in q_word2ind:\n",
    "            encoder_inputs.append(q_word2ind['unk'])\n",
    "    \n",
    "    # Initializing the encoder input\n",
    "    encoder_inputs = tf.keras.preprocessing.sequence.pad_sequences([encoder_inputs], maxlen = question_len, padding = 'post')\n",
    "    encoder_inputs = tf.convert_to_tensor(encoder_inputs)\n",
    "    encoder_h, encoder_c = encoder(encoder_inputs)\n",
    "    \n",
    "    # Initializing the decoder input\n",
    "    decoder_inputs = tf.expand_dims([a_word2ind['bos']], 0)\n",
    "    hidden_h,hidden_c = encoder_h,encoder_c\n",
    "    \n",
    "    result = ''\n",
    "    \n",
    "    for t in range(answer_len):\n",
    "        pred, state_h, state_c = decoder([decoder_inputs, hidden_h, hidden_c])\n",
    "        pred = np.squeeze(pred)\n",
    "        pred_ind = tf.math.argmax(pred).numpy() + 1\n",
    " \n",
    "        # Once we get the 'eos' symbol, stop the loop\n",
    "        if a_ind2word[pred_ind] == 'eos': \n",
    "            return result\n",
    "        \n",
    "        result += a_ind2word[pred_ind] + ' '\n",
    "        \n",
    "        # Passing the predict index and state vectors to the next input \n",
    "        decoder_inputs = tf.expand_dims([pred_ind], 0)       \n",
    "        hidden_h, hidden_c = state_h, state_c\n",
    "        \n",
    "    return result"
   ]
  },
  {
   "cell_type": "code",
   "execution_count": 15,
   "id": "17cbf20d-1fd5-4e62-a31f-9cabdf0fb00c",
   "metadata": {},
   "outputs": [
    {
     "name": "stdin",
     "output_type": "stream",
     "text": [
      "User :>  hi\n"
     ]
    },
    {
     "name": "stdout",
     "output_type": "stream",
     "text": [
      "Bot :> oh \n"
     ]
    },
    {
     "name": "stdin",
     "output_type": "stream",
     "text": [
      "User :>  hello\n"
     ]
    },
    {
     "name": "stdout",
     "output_type": "stream",
     "text": [
      "Bot :> unk \n"
     ]
    },
    {
     "name": "stdin",
     "output_type": "stream",
     "text": [
      "User :>  why?\n"
     ]
    },
    {
     "name": "stdout",
     "output_type": "stream",
     "text": [
      "Bot :> i am not unk \n"
     ]
    },
    {
     "name": "stdin",
     "output_type": "stream",
     "text": [
      "User :>  quit\n"
     ]
    }
   ],
   "source": [
    "while True:\n",
    "    inputs = input('User :> ')\n",
    "    if inputs == 'quit':\n",
    "        break\n",
    "\n",
    "    result = evaluate(inputs)\n",
    "\n",
    "    print('Bot :> ' + result)"
   ]
  },
  {
   "cell_type": "code",
   "execution_count": null,
   "id": "d980f45a-6d47-42ab-9029-d98246ddec78",
   "metadata": {},
   "outputs": [],
   "source": []
  }
 ],
 "metadata": {
  "kernelspec": {
   "display_name": "Python 3 (ipykernel)",
   "language": "python",
   "name": "python3"
  },
  "language_info": {
   "codemirror_mode": {
    "name": "ipython",
    "version": 3
   },
   "file_extension": ".py",
   "mimetype": "text/x-python",
   "name": "python",
   "nbconvert_exporter": "python",
   "pygments_lexer": "ipython3",
   "version": "3.8.10"
  }
 },
 "nbformat": 4,
 "nbformat_minor": 5
}
