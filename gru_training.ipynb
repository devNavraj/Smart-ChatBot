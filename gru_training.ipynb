{
 "cells": [
  {
   "cell_type": "markdown",
   "id": "5b1a13a4-9574-4e03-ba4a-b64b685bdfb0",
   "metadata": {},
   "source": [
    "# Building a Chatbot with NLP and GRU model\n",
    "### Importing the necessary libraries"
   ]
  },
  {
   "cell_type": "code",
   "execution_count": 1,
   "id": "4d235c0a-86f2-4472-b561-ca537ab6d056",
   "metadata": {},
   "outputs": [],
   "source": [
    "import tensorflow as tf\n",
    "import numpy as np\n",
    "from tensorflow.keras.models import Model\n",
    "from tensorflow.keras.layers import Input, Embedding, Dense, GRU, Masking\n",
    "from tensorflow.keras.preprocessing.text import tokenizer_from_json\n",
    "import json\n",
    "import time"
   ]
  },
  {
   "cell_type": "markdown",
   "id": "dc4f5c75-0a94-4fb1-97cf-19c9a673b50e",
   "metadata": {},
   "source": [
    "### Importing preprocessed data"
   ]
  },
  {
   "cell_type": "code",
   "execution_count": 2,
   "id": "c7fd9d15-fc02-41e8-bfb8-9d14bf3a1230",
   "metadata": {},
   "outputs": [],
   "source": [
    "with open('./preprocessed_data/questions.json', 'r') as f:\n",
    "    json_data = json.load(f)\n",
    "    question_corpus = tokenizer_from_json(json_data)\n",
    "    f.close()\n",
    "\n",
    "with open('./preprocessed_data/answers.json', 'r') as f:\n",
    "    json_data = json.load(f)\n",
    "    answer_corpus = tokenizer_from_json(json_data)\n",
    "    f.close()\n",
    "\n",
    "npzfile = np.load('./preprocessed_data/data.npz')"
   ]
  },
  {
   "cell_type": "markdown",
   "id": "35319e57-840c-48fd-8d2a-a4a7e8b1c12b",
   "metadata": {},
   "source": [
    "### Creating the Encoder RNN"
   ]
  },
  {
   "cell_type": "code",
   "execution_count": 3,
   "id": "9c08e019-0398-44ab-8782-72549f3b548e",
   "metadata": {},
   "outputs": [],
   "source": [
    "def create_encoder(inputdim, embeddingsize, inputlen, n_units):\n",
    "    \n",
    "    '''param: inputdim is the length of vocabulary. Basically, the inputdim \n",
    "              indicates the input dimension embeddingsize indicates the output \n",
    "              dimension, which is the dimension of word vectors'''\n",
    "    \n",
    "    encoder_input = Input((inputlen,))\n",
    "    \n",
    "    # We use embedding layer to vectorize the word. \n",
    "    # inputdim + 1 at here is because our word label start from 1\n",
    "    encoder_embed = Embedding(inputdim + 1, embeddingsize)(encoder_input) \n",
    "    \n",
    "    # Add mask layer because we should ignore the input of those padding 0\n",
    "    encoder_mask = Masking()(encoder_embed)\n",
    "    \n",
    "    # Encoder with GRU model\n",
    "    encoder = GRU(n_units, return_state = True)\n",
    "    '''param: n_units indicates the number of GRU units \n",
    "              the state is the vector which encoder maps input to discard\n",
    "              the output of encoder, only state vectors are we need'''\n",
    "    \n",
    "    _, encoder_state = encoder(encoder_mask)\n",
    "    \n",
    "    encoder = Model(encoder_input, encoder_state)\n",
    "    \n",
    "    return encoder"
   ]
  },
  {
   "cell_type": "markdown",
   "id": "65516caa-c3ea-461c-82ff-6dcad7f7e569",
   "metadata": {},
   "source": [
    "### Creating the Decoder RNN"
   ]
  },
  {
   "cell_type": "code",
   "execution_count": 4,
   "id": "6a4494dc-4359-4b72-957c-a396a7f417b4",
   "metadata": {},
   "outputs": [],
   "source": [
    "def create_decoder(inputdim, embeddingsize,inputlen, n_units):\n",
    "    \n",
    "    # Input of answers\n",
    "    decoder_input = Input((inputlen,))\n",
    "    \n",
    "    # Input of encoder state vectors   \n",
    "    initial_state = Input((n_units,))\n",
    "\n",
    "    # Vectorizing input answers\n",
    "    decoder_embed = Embedding(inputdim + 1, embeddingsize)(decoder_input)\n",
    "    decoder_mask = Masking()(decoder_embed)\n",
    "    \n",
    "    # Decoder with GRU model \n",
    "    decoder = GRU(n_units, return_sequences = True, return_state = True)\n",
    "    \n",
    "    # We do not need state in training model\n",
    "    decoder_output,_ = decoder(decoder_embed,initial_state = initial_state)\n",
    "    \n",
    "    # Using activation function as softmax layer, predict the most potential sentence of reply\n",
    "    decoder_dense = Dense(inputdim, activation = 'softmax')\n",
    "    decoder_output_ = decoder_dense(decoder_output)\n",
    "    \n",
    "    decoder = Model([decoder_input, initial_state], decoder_output_)\n",
    "    \n",
    "    return decoder"
   ]
  },
  {
   "cell_type": "markdown",
   "id": "fad16a8d-a111-4414-a2ea-909d2604c2e8",
   "metadata": {},
   "source": [
    "### Defining hyperparameters"
   ]
  },
  {
   "cell_type": "code",
   "execution_count": 5,
   "id": "6d2d1e13-bb41-4c16-a5a1-d21a3edbd630",
   "metadata": {},
   "outputs": [],
   "source": [
    "batch_size = 32 # We choose a small size because of the OOM issue\n",
    "n_unit = 256\n",
    "embedding_size = 128\n",
    "vocab_size = 8000 \n",
    "\n",
    "# Theoretically, vocabulary size should be len(question_corpus.word_index) + 1. \n",
    "# However, it seems like the 'num_words' didn't filter the tokenizer. so we assign the number manually\n",
    "question_len = npzfile['arr_0'].shape[1]\n",
    "answer_len = npzfile['arr_1'].shape[1]"
   ]
  },
  {
   "cell_type": "code",
   "execution_count": 6,
   "id": "0059f85b-2407-46ce-993f-6b5bbecda8b7",
   "metadata": {},
   "outputs": [],
   "source": [
    "encoder = create_encoder(vocab_size, embedding_size, question_len, n_unit)"
   ]
  },
  {
   "cell_type": "code",
   "execution_count": 7,
   "id": "7971619d-9093-4ead-8cc0-a6b755b8f388",
   "metadata": {},
   "outputs": [
    {
     "name": "stdout",
     "output_type": "stream",
     "text": [
      "Model: \"model\"\n",
      "_________________________________________________________________\n",
      "Layer (type)                 Output Shape              Param #   \n",
      "=================================================================\n",
      "input_1 (InputLayer)         [(None, 21)]              0         \n",
      "_________________________________________________________________\n",
      "embedding (Embedding)        (None, 21, 128)           1024128   \n",
      "_________________________________________________________________\n",
      "masking (Masking)            (None, 21, 128)           0         \n",
      "_________________________________________________________________\n",
      "gru (GRU)                    [(None, 256), (None, 256) 296448    \n",
      "=================================================================\n",
      "Total params: 1,320,576\n",
      "Trainable params: 1,320,576\n",
      "Non-trainable params: 0\n",
      "_________________________________________________________________\n"
     ]
    }
   ],
   "source": [
    "encoder.summary()"
   ]
  },
  {
   "cell_type": "code",
   "execution_count": 8,
   "id": "524f58fc-3944-4fb2-a12e-e9e0a66ac77c",
   "metadata": {},
   "outputs": [],
   "source": [
    "decoder = create_decoder(vocab_size, embedding_size, answer_len, n_unit)"
   ]
  },
  {
   "cell_type": "code",
   "execution_count": 9,
   "id": "7afe82bb-cb15-40e2-911b-db501c258cf8",
   "metadata": {},
   "outputs": [
    {
     "name": "stdout",
     "output_type": "stream",
     "text": [
      "Model: \"model_1\"\n",
      "__________________________________________________________________________________________________\n",
      "Layer (type)                    Output Shape         Param #     Connected to                     \n",
      "==================================================================================================\n",
      "input_2 (InputLayer)            [(None, 22)]         0                                            \n",
      "__________________________________________________________________________________________________\n",
      "embedding_1 (Embedding)         (None, 22, 128)      1024128     input_2[0][0]                    \n",
      "__________________________________________________________________________________________________\n",
      "input_3 (InputLayer)            [(None, 256)]        0                                            \n",
      "__________________________________________________________________________________________________\n",
      "gru_1 (GRU)                     [(None, 22, 256), (N 296448      embedding_1[0][0]                \n",
      "                                                                 input_3[0][0]                    \n",
      "__________________________________________________________________________________________________\n",
      "dense (Dense)                   (None, 22, 8000)     2056000     gru_1[0][0]                      \n",
      "==================================================================================================\n",
      "Total params: 3,376,576\n",
      "Trainable params: 3,376,576\n",
      "Non-trainable params: 0\n",
      "__________________________________________________________________________________________________\n"
     ]
    }
   ],
   "source": [
    "decoder.summary()"
   ]
  },
  {
   "cell_type": "markdown",
   "id": "63274bdc-bdbb-4501-a290-6997f75a7577",
   "metadata": {},
   "source": [
    "### Defining the optimizer and loss function"
   ]
  },
  {
   "cell_type": "code",
   "execution_count": 10,
   "id": "759de5fc-8b4d-4c76-9645-310e5477fc42",
   "metadata": {},
   "outputs": [],
   "source": [
    "optimizer = tf.keras.optimizers.Adam(1e-3)\n",
    "def loss_function(real, pred): \n",
    "    loss = tf.keras.losses.categorical_crossentropy(real, pred)\n",
    "    return tf.reduce_mean(loss)"
   ]
  },
  {
   "cell_type": "markdown",
   "id": "f8aa06eb-feb5-41f7-ace1-2b8ab906a463",
   "metadata": {},
   "source": [
    "### Defining the training step"
   ]
  },
  {
   "cell_type": "code",
   "execution_count": 11,
   "id": "0c90b885-4aad-45fb-ab91-ced5b190bdfc",
   "metadata": {},
   "outputs": [],
   "source": [
    "@tf.function\n",
    "def train_step(enc_inp, dec_inp, target):\n",
    "    loss = 0\n",
    "\n",
    "    with tf.GradientTape() as tape:\n",
    "        encoder_state = encoder(enc_inp)\n",
    "        initial_state = encoder_state\n",
    "        prediction = decoder([dec_inp, initial_state])\n",
    "        loss = loss_function(target, prediction)\n",
    "\n",
    "    variables = encoder.trainable_variables + decoder.trainable_variables\n",
    "    gradients = tape.gradient(loss, variables)\n",
    "    optimizer.apply_gradients(zip(gradients, variables))\n",
    "    \n",
    "    return loss"
   ]
  },
  {
   "cell_type": "markdown",
   "id": "e413396d-dc88-464f-8c84-b0cccc7c8e72",
   "metadata": {},
   "source": [
    "### Defining the validation loss"
   ]
  },
  {
   "cell_type": "code",
   "execution_count": 12,
   "id": "bb16e008-550e-4d46-98eb-38f98a740c4c",
   "metadata": {},
   "outputs": [],
   "source": [
    "def validation_loss(enc_inp, dec_inp, target):\n",
    "    loss = 0\n",
    "    encoder_state = encoder(enc_inp)\n",
    "    initial_state = encoder_state\n",
    "    prediction = decoder([dec_inp, initial_state])\n",
    "    loss = loss_function(target, prediction)\n",
    "    \n",
    "    return loss"
   ]
  },
  {
   "cell_type": "markdown",
   "id": "a17d5f89-d184-4257-8561-da79c9daa44b",
   "metadata": {},
   "source": [
    "### Defining the parameter to split data"
   ]
  },
  {
   "cell_type": "code",
   "execution_count": 13,
   "id": "ae90d3d5-a6a3-4b4f-813e-a7e4160877d1",
   "metadata": {},
   "outputs": [],
   "source": [
    "train_valid_split = int(len(npzfile['arr_0']) * 0.8)"
   ]
  },
  {
   "cell_type": "code",
   "execution_count": 14,
   "id": "6419d297-da83-409e-9c37-ffb81f4377c6",
   "metadata": {},
   "outputs": [
    {
     "name": "stdout",
     "output_type": "stream",
     "text": [
      "118628\n"
     ]
    }
   ],
   "source": [
    "print(train_valid_split)"
   ]
  },
  {
   "cell_type": "markdown",
   "id": "7d9940fa-dfed-4cd6-beed-da9292a97d24",
   "metadata": {},
   "source": [
    "### Getting the training data"
   ]
  },
  {
   "cell_type": "code",
   "execution_count": 15,
   "id": "8cd90ea0-e81a-4b3d-ae15-897dc8df4caf",
   "metadata": {},
   "outputs": [],
   "source": [
    "input_questions = npzfile['arr_0'][:train_valid_split]\n",
    "input_answers = npzfile['arr_1'][:train_valid_split]\n",
    "train_target = np.zeros_like(input_answers) # Create target data to do teacher forcing training\n",
    "train_target[:,0:-1] = input_answers[:,1:]  # The target is same as the input answers but 1 timestep shifted to the left"
   ]
  },
  {
   "cell_type": "markdown",
   "id": "685342bc-cc43-4f32-94b7-65d1bd408aca",
   "metadata": {},
   "source": [
    "### Getting the validation data"
   ]
  },
  {
   "cell_type": "code",
   "execution_count": 16,
   "id": "17a7d7f0-5476-4492-a895-4a18d36c6e75",
   "metadata": {},
   "outputs": [],
   "source": [
    "valid_questions = npzfile['arr_0'][train_valid_split:]\n",
    "valid_answers = npzfile['arr_1'][train_valid_split:]\n",
    "valid_target = np.zeros_like(valid_answers)\n",
    "valid_target[:,0:-1] = valid_answers[:,1:]"
   ]
  },
  {
   "cell_type": "markdown",
   "id": "1c6f2da2-9d2e-4f76-8f63-cb8e7b7652f5",
   "metadata": {},
   "source": [
    "### Using onehot encoding to vectorize the target data"
   ]
  },
  {
   "cell_type": "code",
   "execution_count": 17,
   "id": "e2c00ac2-367c-4703-a140-16fc03662309",
   "metadata": {},
   "outputs": [],
   "source": [
    "def onehotencoding(matrix, dim):\n",
    "    onehot = np.zeros((matrix.shape[0], matrix.shape[1], dim))\n",
    "    \n",
    "    for i, sequence in enumerate(matrix):\n",
    "        for j, index in enumerate(sequence):\n",
    "            if index > 0:\n",
    "                onehot[i][j][index - 1] = 1 # The index start from 1 so we subtract 1 from index\n",
    "                \n",
    "    return onehot"
   ]
  },
  {
   "cell_type": "markdown",
   "id": "65179dec-ddb0-4e7a-a606-c3eabca44446",
   "metadata": {},
   "source": [
    "### Creating tensorflow dataset pipeline for faster processing"
   ]
  },
  {
   "cell_type": "code",
   "execution_count": 18,
   "id": "be4d26f5-7218-4d24-8b50-633d69d1fe45",
   "metadata": {},
   "outputs": [],
   "source": [
    "# Training set\n",
    "buffer_size1 = len(input_questions)\n",
    "dataset_train = tf.data.Dataset.from_tensor_slices((input_questions, input_answers, train_target)).shuffle(buffer_size1)\n",
    "dataset_train = dataset_train.batch(batch_size, drop_remainder = True)\n",
    "\n",
    "# Validation set\n",
    "buffer_size2 = len(valid_questions)\n",
    "dataset_valid = tf.data.Dataset.from_tensor_slices((valid_questions, valid_answers, valid_target)).shuffle(buffer_size2)\n",
    "dataset_valid = dataset_valid.batch(batch_size, drop_remainder = True)"
   ]
  },
  {
   "cell_type": "markdown",
   "id": "5da20abb-c2e1-4fc0-a81f-d5214bc99926",
   "metadata": {},
   "source": [
    "### Training the model"
   ]
  },
  {
   "cell_type": "code",
   "execution_count": null,
   "id": "d1dfe69c-9a3d-4e2f-a21e-cda25c3fd4e7",
   "metadata": {},
   "outputs": [
    {
     "name": "stdout",
     "output_type": "stream",
     "text": [
      "Epoch: 1     Loss: 1.859     Valid_Loss: 1.736\n",
      "Time taken for 1 epoch: 890.5565950870514 sec\n",
      "\n"
     ]
    }
   ],
   "source": [
    "epochs = 8\n",
    "trainstep_epoch = len(input_questions)//batch_size\n",
    "validstep_epoch = len(valid_questions)//batch_size\n",
    "overall_time = 0\n",
    "\n",
    "for epoch in range(epochs):\n",
    "    start = time.time()\n",
    "    total_loss = 0\n",
    "    valid_loss = 0\n",
    "    \n",
    "    for (batch, (input_questions, input_answers, train_target)) in enumerate(dataset_train.take(trainstep_epoch)):\n",
    "        train_target_onehot = onehotencoding(train_target, vocab_size)\n",
    "        batch_loss = train_step(input_questions, input_answers, train_target_onehot)\n",
    "        total_loss += batch_loss\n",
    "    \n",
    "    for (batch, (valid_questions, valid_answers, valid_target)) in enumerate(dataset_valid.take(validstep_epoch)):\n",
    "        valid_target_onehot = onehotencoding(valid_target, vocab_size)\n",
    "        valid_batch_loss = validation_loss(valid_questions, valid_answers, valid_target_onehot)\n",
    "        valid_loss += valid_batch_loss\n",
    "    print('Epoch: {}     Loss: {:.3f}     Valid_Loss: {:.3f}'.format(epoch + 1, total_loss/trainstep_epoch, valid_loss/validstep_epoch))\n",
    "    \n",
    "    stop = time.time()\n",
    "    timetaken = stop - start\n",
    "    print('Time taken for 1 epoch: {} sec\\n'.format(timetaken))\n",
    "    \n",
    "    overall_time += timetaken\n",
    "    \n",
    "print('Overall time taken: {} min\\n'.format(overall_time/60))"
   ]
  },
  {
   "cell_type": "code",
   "execution_count": null,
   "id": "77555c66-192a-4699-a5e4-8f3993c31549",
   "metadata": {},
   "outputs": [],
   "source": []
  }
 ],
 "metadata": {
  "kernelspec": {
   "display_name": "Python 3 (ipykernel)",
   "language": "python",
   "name": "python3"
  },
  "language_info": {
   "codemirror_mode": {
    "name": "ipython",
    "version": 3
   },
   "file_extension": ".py",
   "mimetype": "text/x-python",
   "name": "python",
   "nbconvert_exporter": "python",
   "pygments_lexer": "ipython3",
   "version": "3.8.10"
  }
 },
 "nbformat": 4,
 "nbformat_minor": 5
}
