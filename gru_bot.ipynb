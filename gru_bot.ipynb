{
 "cells": [
  {
   "cell_type": "markdown",
   "id": "7b5be309-056f-4b67-8445-1848232439f4",
   "metadata": {},
   "source": [
    "# Building a Chatbot with NLP and GRU model\n",
    "### Importing the necessary libraries"
   ]
  },
  {
   "cell_type": "code",
   "execution_count": 1,
   "id": "b9ab374c-3964-42e4-a3c0-c3492b2a29cd",
   "metadata": {},
   "outputs": [],
   "source": [
    "import tensorflow as tf\n",
    "import numpy as np\n",
    "import json\n",
    "import re\n",
    "physical_devices = tf.config.experimental.list_physical_devices('GPU')\n",
    "tf.config.experimental.set_memory_growth(physical_devices[0], enable = True)\n",
    "from tensorflow.keras.models import Model\n",
    "from tensorflow.keras.layers import Input, Embedding, Dense, GRU, LSTM, Masking\n",
    "from keras.preprocessing.text import tokenizer_from_json"
   ]
  },
  {
   "cell_type": "markdown",
   "id": "46f70c05-5091-492a-bdec-8e749bcda8d8",
   "metadata": {},
   "source": [
    "### Importing preprocessed data"
   ]
  },
  {
   "cell_type": "code",
   "execution_count": 2,
   "id": "f70f829c-d5cd-4dea-9935-4e9a68cd5c85",
   "metadata": {},
   "outputs": [],
   "source": [
    "with open('./preprocessed_data/questions.json', 'r') as f:\n",
    "    json_data = json.load(f)\n",
    "    question_corpus = tokenizer_from_json(json_data)\n",
    "    f.close()\n",
    "\n",
    "with open('./preprocessed_data/answers.json', 'r') as f:\n",
    "    json_data = json.load(f)\n",
    "    answer_corpus = tokenizer_from_json(json_data)\n",
    "    f.close()\n",
    "\n",
    "npzfile = np.load('./preprocessed_data/data.npz')"
   ]
  },
  {
   "cell_type": "markdown",
   "id": "11820927-9024-42e6-82bc-f9644ab14188",
   "metadata": {},
   "source": [
    "#### Some unknown reason make the corpus contain all words and labels in raw data rather than a vocabulary with limited size so we have to build the dict manually"
   ]
  },
  {
   "cell_type": "code",
   "execution_count": 3,
   "id": "264e48ab-661c-4c67-9abe-26d7d2db04fb",
   "metadata": {},
   "outputs": [],
   "source": [
    "q_word2ind={e:i for e, i in question_corpus.word_index.items() if i <= 8000}\n",
    "q_ind2word={e:i for i, e in q_word2ind.items()}\n",
    "a_word2ind={e:i for e, i in answer_corpus.word_index.items() if i <= 8000}\n",
    "a_ind2word={e:i for i, e in a_word2ind.items()}"
   ]
  },
  {
   "cell_type": "markdown",
   "id": "fa41b1f0-11f5-4544-9293-dec71497938c",
   "metadata": {},
   "source": [
    "### Creating the encoder"
   ]
  },
  {
   "cell_type": "code",
   "execution_count": 4,
   "id": "2ab166f7-5ae8-4f1b-bd37-755e1ee4fcb1",
   "metadata": {},
   "outputs": [],
   "source": [
    "def create_encoder(inputdim, embeddingsize, inputlen, n_units):\n",
    "\n",
    "    encoder_input = Input((inputlen,))\n",
    "    encoder_embed = Embedding(inputdim + 1, embeddingsize)(encoder_input)\n",
    "    encoder_mask = Masking()(encoder_embed)\n",
    "    \n",
    "    encoder = GRU(n_units, return_state = True)\n",
    "    _, encoder_state = encoder(encoder_mask)\n",
    "    \n",
    "    encoder = Model(encoder_input, encoder_state)\n",
    "    \n",
    "    return encoder"
   ]
  },
  {
   "cell_type": "markdown",
   "id": "138a5563-ad24-44d7-9c73-28263488b4c6",
   "metadata": {},
   "source": [
    "### Creating the decoder"
   ]
  },
  {
   "cell_type": "code",
   "execution_count": 5,
   "id": "8ee2fc2f-09eb-4820-bd76-c7c6407b201e",
   "metadata": {},
   "outputs": [],
   "source": [
    "def create_decoder(inputdim, embeddingsize, n_units):\n",
    "    \n",
    "    # The size of input at here is 1 because we want to predict the answer step by step, each time only input 1 word\n",
    "    decoder_input = Input((1,))\n",
    "    \n",
    "    # Input of encoder state vectors\n",
    "    initial_state = Input((n_units,))\n",
    "\n",
    "    # Vectorizing input answers\n",
    "    decoder_embed = Embedding(inputdim + 1, embeddingsize)(decoder_input)\n",
    "    decoder_mask = Masking()(decoder_embed)\n",
    "    \n",
    "    decoder = GRU(n_units, return_sequences = True, return_state = True)\n",
    "    \n",
    "    # In inference model, we need decoder state\n",
    "    decoder_output, decoder_state = decoder(decoder_mask, initial_state = initial_state)\n",
    "    \n",
    "    # Using activation function as softmax layer, predict the most potential sentence of reply\n",
    "    decoder_dense = Dense(inputdim, activation = 'softmax')\n",
    "    decoder_output_ = decoder_dense(decoder_output)\n",
    "    \n",
    "    decoder = Model([decoder_input, initial_state], [decoder_output_, decoder_state])\n",
    "    \n",
    "    return decoder"
   ]
  },
  {
   "cell_type": "markdown",
   "id": "c875948b-c49f-4645-8328-b9dfc2c8fcf9",
   "metadata": {},
   "source": [
    "### Defining hyperparameters"
   ]
  },
  {
   "cell_type": "code",
   "execution_count": 6,
   "id": "e24b3086-0e81-46ac-af8a-15ef0abb4ac2",
   "metadata": {},
   "outputs": [],
   "source": [
    "n_unit = 256\n",
    "embedding_size = 128\n",
    "vocab_size = 8000 \n",
    "question_len = npzfile['arr_0'].shape[1]\n",
    "answer_len = npzfile['arr_1'].shape[1]"
   ]
  },
  {
   "cell_type": "code",
   "execution_count": 7,
   "id": "df4eb011-7b9e-4d7a-8163-220da116afd4",
   "metadata": {},
   "outputs": [],
   "source": [
    "encoder = create_encoder(vocab_size, embedding_size, question_len, n_unit)"
   ]
  },
  {
   "cell_type": "code",
   "execution_count": 8,
   "id": "dd7cd1ce-8056-49f6-9f50-0df2177a89fe",
   "metadata": {},
   "outputs": [
    {
     "name": "stdout",
     "output_type": "stream",
     "text": [
      "Model: \"model\"\n",
      "_________________________________________________________________\n",
      "Layer (type)                 Output Shape              Param #   \n",
      "=================================================================\n",
      "input_1 (InputLayer)         [(None, 21)]              0         \n",
      "_________________________________________________________________\n",
      "embedding (Embedding)        (None, 21, 128)           1024128   \n",
      "_________________________________________________________________\n",
      "masking (Masking)            (None, 21, 128)           0         \n",
      "_________________________________________________________________\n",
      "gru (GRU)                    [(None, 256), (None, 256) 296448    \n",
      "=================================================================\n",
      "Total params: 1,320,576\n",
      "Trainable params: 1,320,576\n",
      "Non-trainable params: 0\n",
      "_________________________________________________________________\n"
     ]
    }
   ],
   "source": [
    "encoder.summary()"
   ]
  },
  {
   "cell_type": "code",
   "execution_count": 9,
   "id": "d9071e45-d1e4-454d-853f-6d66a4d8948a",
   "metadata": {},
   "outputs": [],
   "source": [
    "encoder.load_weights('./trained_model/gru_encoder_test.h5')"
   ]
  },
  {
   "cell_type": "code",
   "execution_count": 10,
   "id": "110e917b-d8cb-47a9-9bc6-7081e31a042d",
   "metadata": {},
   "outputs": [],
   "source": [
    "decoder = create_decoder(vocab_size, embedding_size, n_unit)"
   ]
  },
  {
   "cell_type": "code",
   "execution_count": 11,
   "id": "d6471a5f-673b-4dfa-892a-b168f103478d",
   "metadata": {},
   "outputs": [
    {
     "name": "stdout",
     "output_type": "stream",
     "text": [
      "Model: \"model_1\"\n",
      "__________________________________________________________________________________________________\n",
      "Layer (type)                    Output Shape         Param #     Connected to                     \n",
      "==================================================================================================\n",
      "input_2 (InputLayer)            [(None, 1)]          0                                            \n",
      "__________________________________________________________________________________________________\n",
      "embedding_1 (Embedding)         (None, 1, 128)       1024128     input_2[0][0]                    \n",
      "__________________________________________________________________________________________________\n",
      "masking_1 (Masking)             (None, 1, 128)       0           embedding_1[0][0]                \n",
      "__________________________________________________________________________________________________\n",
      "input_3 (InputLayer)            [(None, 256)]        0                                            \n",
      "__________________________________________________________________________________________________\n",
      "gru_1 (GRU)                     [(None, 1, 256), (No 296448      masking_1[0][0]                  \n",
      "                                                                 input_3[0][0]                    \n",
      "__________________________________________________________________________________________________\n",
      "dense (Dense)                   (None, 1, 8000)      2056000     gru_1[0][0]                      \n",
      "==================================================================================================\n",
      "Total params: 3,376,576\n",
      "Trainable params: 3,376,576\n",
      "Non-trainable params: 0\n",
      "__________________________________________________________________________________________________\n"
     ]
    }
   ],
   "source": [
    "decoder.summary()"
   ]
  },
  {
   "cell_type": "code",
   "execution_count": 12,
   "id": "fd4af11b-23a9-4303-889d-d804c15b751a",
   "metadata": {},
   "outputs": [],
   "source": [
    "decoder.load_weights('./trained_model/gru_decoder_test.h5')"
   ]
  },
  {
   "cell_type": "code",
   "execution_count": 13,
   "id": "3f9377e8-8cc5-4e78-939e-c94a6a285d81",
   "metadata": {},
   "outputs": [],
   "source": [
    "def clean_text(text):\n",
    "\n",
    "    # remove unnecessary characters in sentences\n",
    "    \n",
    "    text = text.lower().strip()\n",
    "    text = re.sub(r\"i'm\", \"i am\", text)\n",
    "    text = re.sub(r\"he's\", \"he is\", text)\n",
    "    text = re.sub(r\"she's\", \"she is\", text)\n",
    "    text = re.sub(r\"it's\", \"it is\", text)\n",
    "    text = re.sub(r\"that's\", \"that is\", text)\n",
    "    text = re.sub(r\"what's\", \"what is\", text)\n",
    "    text = re.sub(r\"where's\", \"where is\", text)\n",
    "    text = re.sub(r\"there's\", \"there is\", text)\n",
    "    text = re.sub(r\"how's\", \"how is\", text)\n",
    "    text = re.sub(r\"\\'ll\", \" will\", text)\n",
    "    text = re.sub(r\"\\'ve\", \" have\", text)\n",
    "    text = re.sub(r\"\\'re\", \" are\", text)\n",
    "    text = re.sub(r\"\\'d\", \" would\", text)\n",
    "    text = re.sub(r\"\\'re\", \" are\", text)\n",
    "    text = re.sub(r\"won't\", \"will not\", text)\n",
    "    text = re.sub(r\"can't\", \"cannot\", text)\n",
    "    text = re.sub(r\"n't\", \" not\", text)\n",
    "    text = re.sub(r\"n'\", \"ng\", text)\n",
    "    text = re.sub(r\"'bout\", \"about\", text)\n",
    "    text = re.sub(r\"'til\", \"until\", text)\n",
    "    text = re.sub(r'[\" \"]+', \" \", text)\n",
    "    text = re.sub(r\"[-()\\\"#/@;:<>{}`+=~|.!?,]\", \"\", text)\n",
    "    \n",
    "    return text"
   ]
  },
  {
   "cell_type": "markdown",
   "id": "99d4246c-e2a4-49aa-8684-60075cad89a6",
   "metadata": {},
   "source": [
    "### Evaluating the chat"
   ]
  },
  {
   "cell_type": "code",
   "execution_count": 14,
   "id": "5dab16ef-5594-4c38-a6ba-01b762db906e",
   "metadata": {},
   "outputs": [],
   "source": [
    "def evaluate(sentence):\n",
    "    \n",
    "    sentence = clean_text(sentence) # Clean the input text\n",
    "    encoder_inputs = []\n",
    "    \n",
    "    # Converting the input text to index sequence and use unk replace the word not in vocabulary\n",
    "    for word in sentence.split():\n",
    "        if word in q_word2ind:\n",
    "            encoder_inputs.append(q_word2ind[word])\n",
    "        elif word not in q_word2ind:\n",
    "            encoder_inputs.append(q_word2ind['unk'])\n",
    "            \n",
    "    # Initializing the encoder input        \n",
    "    encoder_inputs = tf.keras.preprocessing.sequence.pad_sequences([encoder_inputs], maxlen = question_len, padding = 'post')\n",
    "    encoder_inputs = tf.convert_to_tensor(encoder_inputs)\n",
    "    encoder_state = encoder(encoder_inputs)\n",
    "    \n",
    "    # Initializing the decoder input\n",
    "    decoder_inputs = tf.expand_dims([a_word2ind['bos']], 0)\n",
    "    hidden_state = encoder_state\n",
    "    \n",
    "    result = ''\n",
    "    \n",
    "    for t in range(answer_len):\n",
    "        pred,state = decoder([decoder_inputs, hidden_state])\n",
    "        pred = np.squeeze(pred)\n",
    "        pred_ind = tf.math.argmax(pred).numpy() + 1\n",
    "        \n",
    "        # Once we get the 'eos' symbol, stop the loop\n",
    "        if a_ind2word[pred_ind] == 'eos':\n",
    "            return result\n",
    "\n",
    "        result += a_ind2word[pred_ind] + ' '\n",
    "        \n",
    "        # Passing the predict index and state vectors to the next input\n",
    "        decoder_inputs = tf.expand_dims([pred_ind], 0)\n",
    "        hidden_state = state\n",
    "        \n",
    "    return result"
   ]
  },
  {
   "cell_type": "code",
   "execution_count": 15,
   "id": "c344deb6-a646-4e0d-84d2-01090df48783",
   "metadata": {},
   "outputs": [
    {
     "name": "stdin",
     "output_type": "stream",
     "text": [
      "User :>  Hello\n"
     ]
    },
    {
     "name": "stdout",
     "output_type": "stream",
     "text": [
      "Bot :> hello \n"
     ]
    },
    {
     "name": "stdin",
     "output_type": "stream",
     "text": [
      "User :>  how are you?\n"
     ]
    },
    {
     "name": "stdout",
     "output_type": "stream",
     "text": [
      "Bot :> i am fine \n"
     ]
    },
    {
     "name": "stdin",
     "output_type": "stream",
     "text": [
      "User :>  wow so cool\n"
     ]
    },
    {
     "name": "stdout",
     "output_type": "stream",
     "text": [
      "Bot :> i do not know \n"
     ]
    },
    {
     "name": "stdin",
     "output_type": "stream",
     "text": [
      "User :>  who are you?\n"
     ]
    },
    {
     "name": "stdout",
     "output_type": "stream",
     "text": [
      "Bot :> i am not sure i \n"
     ]
    },
    {
     "name": "stdin",
     "output_type": "stream",
     "text": [
      "User :>  where are you going\n"
     ]
    },
    {
     "name": "stdout",
     "output_type": "stream",
     "text": [
      "Bot :> i am not sure i will not be \n"
     ]
    },
    {
     "name": "stdin",
     "output_type": "stream",
     "text": [
      "User :>  what is your name?\n"
     ]
    },
    {
     "name": "stdout",
     "output_type": "stream",
     "text": [
      "Bot :> unk \n"
     ]
    },
    {
     "name": "stdin",
     "output_type": "stream",
     "text": [
      "User :>  name\n"
     ]
    },
    {
     "name": "stdout",
     "output_type": "stream",
     "text": [
      "Bot :> unk \n"
     ]
    },
    {
     "name": "stdin",
     "output_type": "stream",
     "text": [
      "User :>  where are you from\n"
     ]
    },
    {
     "name": "stdout",
     "output_type": "stream",
     "text": [
      "Bot :> i am not sure i will not be \n"
     ]
    },
    {
     "name": "stdin",
     "output_type": "stream",
     "text": [
      "User :>  where\n"
     ]
    },
    {
     "name": "stdout",
     "output_type": "stream",
     "text": [
      "Bot :> nowhere \n"
     ]
    },
    {
     "name": "stdin",
     "output_type": "stream",
     "text": [
      "User :>  right\n"
     ]
    },
    {
     "name": "stdout",
     "output_type": "stream",
     "text": [
      "Bot :> i am not sure i will \n"
     ]
    },
    {
     "name": "stdin",
     "output_type": "stream",
     "text": [
      "User :>  lets go\n"
     ]
    },
    {
     "name": "stdout",
     "output_type": "stream",
     "text": [
      "Bot :> do not worry about it \n"
     ]
    },
    {
     "name": "stdin",
     "output_type": "stream",
     "text": [
      "User :>  quit\n"
     ]
    }
   ],
   "source": [
    "while True:\n",
    "    inputs = input('User :> ')\n",
    "    if inputs == 'quit':\n",
    "        break\n",
    "\n",
    "    result = evaluate(inputs)\n",
    "\n",
    "    print('Bot :> ' + result)"
   ]
  }
 ],
 "metadata": {
  "kernelspec": {
   "display_name": "Python 3 (ipykernel)",
   "language": "python",
   "name": "python3"
  },
  "language_info": {
   "codemirror_mode": {
    "name": "ipython",
    "version": 3
   },
   "file_extension": ".py",
   "mimetype": "text/x-python",
   "name": "python",
   "nbconvert_exporter": "python",
   "pygments_lexer": "ipython3",
   "version": "3.8.10"
  }
 },
 "nbformat": 4,
 "nbformat_minor": 5
}
