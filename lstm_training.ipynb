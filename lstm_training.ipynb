{
 "cells": [
  {
   "cell_type": "markdown",
   "id": "19ab148d",
   "metadata": {},
   "source": [
    "# Building a Chatbot with NLP and LSTM network\n",
    "### Importing the necessary libraries"
   ]
  },
  {
   "cell_type": "code",
   "execution_count": 1,
   "id": "e5792778",
   "metadata": {},
   "outputs": [],
   "source": [
    "import tensorflow as tf\n",
    "physical_devices = tf.config.experimental.list_physical_devices('GPU')\n",
    "tf.config.experimental.set_memory_growth(physical_devices[0], enable = True)\r\n",
    "import numpy as np\r\n",
    "from tensorflow.keras.models import Model\r\n",
    "from tensorflow.keras.layers import Input, Embedding, Dense, LSTM, Masking\r\n",
    "from tensorflow.keras.preprocessing.text import tokenizer_from_json\r\n",
    "import json\r\n",
    "import time"
   ]
  },
  {
   "cell_type": "markdown",
   "id": "4eed277d",
   "metadata": {},
   "source": [
    "### Importing preprocessed data"
   ]
  },
  {
   "cell_type": "code",
   "execution_count": 2,
   "id": "f44a435b",
   "metadata": {},
   "outputs": [],
   "source": [
    "with open('./preprocessed_data/questions.json', 'r') as f:\r\n",
    "    json_data = json.load(f)\r\n",
    "    question_corpus = tokenizer_from_json(json_data)\r\n",
    "    f.close()\r\n",
    "\r\n",
    "with open('./preprocessed_data/answers.json', 'r') as f:\r\n",
    "    json_data = json.load(f)\r\n",
    "    answer_corpus = tokenizer_from_json(json_data)\r\n",
    "    f.close()\r\n",
    "\r\n",
    "npzfile = np.load('./preprocessed_data/data.npz')"
   ]
  },
  {
   "cell_type": "markdown",
   "id": "9f1e29c9",
   "metadata": {},
   "source": [
    "### Creating the Encoder RNN"
   ]
  },
  {
   "cell_type": "code",
   "execution_count": 3,
   "id": "3f9bea25",
   "metadata": {},
   "outputs": [],
   "source": [
    "def create_encoder(inputdim, embeddingsize, inputlen, n_units):\n",
    "\n",
    "    '''param: inputdim is the length of vocabulary. Basically, the inputdim indicates the input dimension\n",
    "              embeddingsize indicates the output dimension, which is the dimension of word vectors'''\n",
    "    \n",
    "    # Encoder\n",
    "    encoder_input = Input((inputlen,))\n",
    "    encoder_embed = Embedding(inputdim + 1, embeddingsize)(encoder_input) # We use embedding layer to vectorize the word.\n",
    "    \n",
    "    # Add mask layer because we should ignore the input of those padding 0\n",
    "    encoder_mask = Masking()(encoder_embed)\n",
    "    \n",
    "    # Encoder with GRU model\n",
    "    encoder = LSTM(n_units, return_state = True)\n",
    "    '''param: n_units indicates the number of LSTM units \n",
    "              the state h & c are the vectors which encoder maps input to discard the output of encoder, \n",
    "              only state h & c are needed'''\n",
    "    _, encoder_h, encoder_c = encoder(encoder_mask)\n",
    "    \n",
    "    encoder = Model(encoder_input, [encoder_h,encoder_c])\n",
    "    \n",
    "    return encoder"
   ]
  },
  {
   "cell_type": "markdown",
   "id": "e0a55f94",
   "metadata": {},
   "source": [
    "### Creating the Decoder RNN"
   ]
  },
  {
   "cell_type": "code",
   "execution_count": 4,
   "id": "0cf2bcac",
   "metadata": {},
   "outputs": [],
   "source": [
    "def create_decoder(inputdim, embeddingsize, inputlen, n_units):\n",
    "    \n",
    "    # Input of answers\n",
    "    decoder_input = Input((inputlen,))\n",
    "    \n",
    "    # Input of encoder state vectors\n",
    "    initial_stateh = Input((n_units,))\n",
    "    initial_statec = Input((n_units,))\n",
    "    encoder_state = [initial_stateh, initial_statec]\n",
    "    \n",
    "    # Vectorizing the input answers\n",
    "    decoder_embed = Embedding(inputdim + 1, embeddingsize, input_length = 1)(decoder_input)\n",
    "    decoder_mask = Masking()(decoder_embed)\n",
    "    \n",
    "    # Decoder with GRU model\n",
    "    decoder = LSTM(n_units, return_sequences = True, return_state = True)\n",
    "    \n",
    "    # We don't need the state h & c in training model\n",
    "    decoder_output, _, _ = decoder(decoder_mask,initial_state = encoder_state)\n",
    "    \n",
    "    # Using activation function as softmax layer, predict the most potential sentence of reply\n",
    "    decoder_dense = Dense(inputdim, activation = 'softmax')\n",
    "    decoder_output_ = decoder_dense(decoder_output)\n",
    "    \n",
    "    decoder = Model([decoder_input, initial_stateh, initial_statec], decoder_output_)\n",
    "    \n",
    "    return decoder"
   ]
  },
  {
   "cell_type": "markdown",
   "id": "ab69ddde",
   "metadata": {},
   "source": [
    "### Defining hyperparameters"
   ]
  },
  {
   "cell_type": "code",
   "execution_count": 5,
   "id": "c29e07bd",
   "metadata": {},
   "outputs": [],
   "source": [
    "batch_size = 32\n",
    "n_unit = 256\n",
    "embedding_size = 128\n",
    "vocab_size = 8000 \n",
    "# Theoretically, vocabulary size should be len(question_corpus.word_index) + 1. \n",
    "# However, it seems like the 'num_words' didn't filter the tokenizer. so we assign the number manually\n",
    "question_len = npzfile['arr_0'].shape[1]\n",
    "answer_len = npzfile['arr_1'].shape[1]"
   ]
  },
  {
   "cell_type": "code",
   "execution_count": 6,
   "id": "f52308e4",
   "metadata": {},
   "outputs": [],
   "source": [
    "encoder = create_encoder(vocab_size, embedding_size, question_len, n_unit)"
   ]
  },
  {
   "cell_type": "code",
   "execution_count": 7,
   "id": "4514e6a4",
   "metadata": {},
   "outputs": [
    {
     "name": "stdout",
     "output_type": "stream",
     "text": [
      "Model: \"model\"\n",
      "_________________________________________________________________\n",
      "Layer (type)                 Output Shape              Param #   \n",
      "=================================================================\n",
      "input_1 (InputLayer)         [(None, 21)]              0         \n",
      "_________________________________________________________________\n",
      "embedding (Embedding)        (None, 21, 128)           1024128   \n",
      "_________________________________________________________________\n",
      "masking (Masking)            (None, 21, 128)           0         \n",
      "_________________________________________________________________\n",
      "lstm (LSTM)                  [(None, 256), (None, 256) 394240    \n",
      "=================================================================\n",
      "Total params: 1,418,368\n",
      "Trainable params: 1,418,368\n",
      "Non-trainable params: 0\n",
      "_________________________________________________________________\n"
     ]
    }
   ],
   "source": [
    "encoder.summary()"
   ]
  },
  {
   "cell_type": "code",
   "execution_count": 8,
   "id": "e5875ca2",
   "metadata": {},
   "outputs": [],
   "source": [
    "decoder = create_decoder(vocab_size, embedding_size, answer_len, n_unit)"
   ]
  },
  {
   "cell_type": "code",
   "execution_count": 9,
   "id": "2122f821",
   "metadata": {},
   "outputs": [
    {
     "name": "stdout",
     "output_type": "stream",
     "text": [
      "Model: \"model_1\"\n",
      "__________________________________________________________________________________________________\n",
      "Layer (type)                    Output Shape         Param #     Connected to                     \n",
      "==================================================================================================\n",
      "input_2 (InputLayer)            [(None, 22)]         0                                            \n",
      "__________________________________________________________________________________________________\n",
      "embedding_1 (Embedding)         (None, 22, 128)      1024128     input_2[0][0]                    \n",
      "__________________________________________________________________________________________________\n",
      "masking_1 (Masking)             (None, 22, 128)      0           embedding_1[0][0]                \n",
      "__________________________________________________________________________________________________\n",
      "input_3 (InputLayer)            [(None, 256)]        0                                            \n",
      "__________________________________________________________________________________________________\n",
      "input_4 (InputLayer)            [(None, 256)]        0                                            \n",
      "__________________________________________________________________________________________________\n",
      "lstm_1 (LSTM)                   [(None, 22, 256), (N 394240      masking_1[0][0]                  \n",
      "                                                                 input_3[0][0]                    \n",
      "                                                                 input_4[0][0]                    \n",
      "__________________________________________________________________________________________________\n",
      "dense (Dense)                   (None, 22, 8000)     2056000     lstm_1[0][0]                     \n",
      "==================================================================================================\n",
      "Total params: 3,474,368\n",
      "Trainable params: 3,474,368\n",
      "Non-trainable params: 0\n",
      "__________________________________________________________________________________________________\n"
     ]
    }
   ],
   "source": [
    "decoder.summary()"
   ]
  },
  {
   "cell_type": "markdown",
   "id": "62f25578",
   "metadata": {},
   "source": [
    "### Defining the optimizer and loss function"
   ]
  },
  {
   "cell_type": "code",
   "execution_count": 10,
   "id": "aa32fbd3",
   "metadata": {},
   "outputs": [],
   "source": [
    "optimizer = tf.keras.optimizers.Adam(1e-3)\n",
    "def loss_function(real, pred): \n",
    "    loss = tf.keras.losses.categorical_crossentropy(real, pred)\n",
    "    return tf.reduce_mean(loss)"
   ]
  },
  {
   "cell_type": "markdown",
   "id": "7580fb82",
   "metadata": {},
   "source": [
    "### Defining the training step"
   ]
  },
  {
   "cell_type": "code",
   "execution_count": 11,
   "id": "cdcb55e9",
   "metadata": {},
   "outputs": [],
   "source": [
    "@tf.function\n",
    "def train_step(encoder_input, decoder_input, target):\n",
    "    loss=0\n",
    "\n",
    "    with tf.GradientTape() as tape:\n",
    "        encoder_h,encoder_c = encoder(encoder_input)\n",
    "        initial_stateh, initial_statec = encoder_h, encoder_c\n",
    "        prediction = decoder([decoder_input, initial_stateh, initial_statec])\n",
    "        loss = loss_function(target, prediction)\n",
    "\n",
    "    variables = encoder.trainable_variables + decoder.trainable_variables\n",
    "    gradients = tape.gradient(loss, variables)\n",
    "    optimizer.apply_gradients(zip(gradients, variables))\n",
    "    \n",
    "    return loss"
   ]
  },
  {
   "cell_type": "markdown",
   "id": "6e342cd1",
   "metadata": {},
   "source": [
    "### Defining the validation loss"
   ]
  },
  {
   "cell_type": "code",
   "execution_count": 12,
   "id": "9bbf84b1",
   "metadata": {},
   "outputs": [],
   "source": [
    "def validation_loss(encoder_input, decoder_input, target):\n",
    "    loss = 0\n",
    "    encoder_h, encoder_c = encoder(encoder_input)\n",
    "    initial_stateh, initial_statec = encoder_h, encoder_c\n",
    "    prediction = decoder([decoder_input, initial_stateh, initial_statec])\n",
    "    loss = loss_function(target, prediction)\n",
    "    \n",
    "    return loss"
   ]
  },
  {
   "cell_type": "markdown",
   "id": "da53d979",
   "metadata": {},
   "source": [
    "### Defining the parameter to split data"
   ]
  },
  {
   "cell_type": "code",
   "execution_count": 13,
   "id": "f0f5e834",
   "metadata": {},
   "outputs": [],
   "source": [
    "train_valid_split = int(len(npzfile['arr_0']) * 0.8)"
   ]
  },
  {
   "cell_type": "markdown",
   "id": "bd3b0002",
   "metadata": {},
   "source": [
    "### Getting the training data"
   ]
  },
  {
   "cell_type": "code",
   "execution_count": 14,
   "id": "c0d683e5",
   "metadata": {},
   "outputs": [],
   "source": [
    "input_questions = npzfile['arr_0'][:train_valid_split]\n",
    "input_answers = npzfile['arr_1'][:train_valid_split]\n",
    "train_target = np.zeros_like(input_answers) # Create target data to do teacher forcing training\n",
    "train_target[:,0:-1] = input_answers[:,1:]  # The target is same as the input answers but 1 timestep shifted to the left"
   ]
  },
  {
   "cell_type": "markdown",
   "id": "bbd4e916",
   "metadata": {},
   "source": [
    "### Getting the validation data"
   ]
  },
  {
   "cell_type": "code",
   "execution_count": 15,
   "id": "32221566",
   "metadata": {},
   "outputs": [],
   "source": [
    "valid_questions = npzfile['arr_0'][train_valid_split:]\n",
    "valid_answers = npzfile['arr_1'][train_valid_split:]\n",
    "valid_target = np.zeros_like(valid_answers)\n",
    "valid_target[:,0:-1] = valid_answers[:,1:]"
   ]
  },
  {
   "cell_type": "markdown",
   "id": "125c3170",
   "metadata": {},
   "source": [
    "### Using onehot encoding to vectorize the target data"
   ]
  },
  {
   "cell_type": "code",
   "execution_count": 16,
   "id": "c068e935",
   "metadata": {},
   "outputs": [],
   "source": [
    "def onehotencoding(matrix, dim):\n",
    "    onehot = np.zeros((matrix.shape[0], matrix.shape[1], dim))\n",
    "    for i, sequence in enumerate(matrix):\n",
    "        for j, index in enumerate(sequence):\n",
    "            if index > 0:\n",
    "                onehot[i][j][index - 1] = 1 # The index start from 1, so we subtract index from 1\n",
    "    return onehot"
   ]
  },
  {
   "cell_type": "markdown",
   "id": "45e3882b",
   "metadata": {},
   "source": [
    "### Creating tensorflow dataset pipeline for faster processing"
   ]
  },
  {
   "cell_type": "code",
   "execution_count": 17,
   "id": "8f139327",
   "metadata": {},
   "outputs": [],
   "source": [
    "# Training set\n",
    "buffer_size1 = len(input_questions)\n",
    "dataset_train = tf.data.Dataset.from_tensor_slices((input_questions, input_answers, train_target)).shuffle(buffer_size1)\n",
    "dataset_train = dataset_train.batch(batch_size, drop_remainder = True)\n",
    "\n",
    "# Validation set\n",
    "buffer_size2 = len(valid_questions)\n",
    "dataset_valid = tf.data.Dataset.from_tensor_slices((valid_questions, valid_answers, valid_target)).shuffle(buffer_size2)\n",
    "dataset_valid = dataset_valid.batch(batch_size, drop_remainder = True)"
   ]
  },
  {
   "cell_type": "markdown",
   "id": "6a8db865",
   "metadata": {},
   "source": [
    "### Training the model"
   ]
  },
  {
   "cell_type": "code",
   "execution_count": null,
   "id": "6d66d150",
   "metadata": {},
   "outputs": [
    {
     "name": "stdout",
     "output_type": "stream",
     "text": [
      "Epoch: 1     Loss: 1.983     Valid_Loss: 1.991\n",
      "Time taken for 1 epoch: 988.335943698883 sec\n",
      "\n",
      "Epoch: 2     Loss: 1.943     Valid_Loss: 1.936\n",
      "Time taken for 1 epoch: 1018.1968927383423 sec\n",
      "\n",
      "Epoch: 3     Loss: 1.825     Valid_Loss: 1.821\n",
      "Time taken for 1 epoch: 967.5144467353821 sec\n",
      "\n",
      "Epoch: 4     Loss: 1.746     Valid_Loss: 1.774\n",
      "Time taken for 1 epoch: 1103.4421164989471 sec\n",
      "\n"
     ]
    }
   ],
   "source": [
    "epochs = 8\n",
    "trainstep_epoch = len(input_questions)//batch_size\n",
    "validstep_epoch = len(valid_questions)//batch_size\n",
    "overall_time = 0\n",
    "stop_early = 0\n",
    "stop = 2\n",
    "summary_valid_loss = []\n",
    "\n",
    "for epoch in range(epochs):\n",
    "    start = time.time()\n",
    "    total_loss = 0\n",
    "    valid_loss = 0\n",
    "    \n",
    "    for (batch, (input_questions, input_answers, train_target)) in enumerate(dataset_train.take(trainstep_epoch)):\n",
    "        train_target_onehot = onehotencoding(train_target, vocab_size)\n",
    "        batch_loss = train_step(input_questions, input_answers, train_target_onehot)\n",
    "        total_loss += batch_loss\n",
    "    \n",
    "    for (batch, (valid_questions, valid_answers, valid_target)) in enumerate(dataset_valid.take(validstep_epoch)):\n",
    "        valid_target_onehot = onehotencoding(valid_target, vocab_size)\n",
    "        valid_batch_loss = validation_loss(valid_questions, valid_answers, valid_target_onehot)\n",
    "        valid_loss += valid_batch_loss\n",
    "    print('Epoch: {}     Loss: {:.3f}     Valid_Loss: {:.3f}'.format(epoch + 1, total_loss/trainstep_epoch, valid_loss/validstep_epoch))\n",
    "    \n",
    "    \n",
    "    summary_valid_loss.append(valid_loss)\n",
    "    if valid_loss > min(summary_valid_loss):\n",
    "        stop_early += 1\n",
    "        if stop_early == stop:\n",
    "            break\n",
    "    \n",
    "    stop = time.time()\n",
    "    timetaken = stop - start\n",
    "    print('Time taken for 1 epoch: {} sec\\n'.format(timetaken))\n",
    "    \n",
    "    overall_time += timetaken\n",
    "    \n",
    "    if stop_early == stop:\n",
    "        print('Stopped Training')\n",
    "        break\n",
    "    \n",
    "print('Overall time taken: {} min\\n'.format(overall_time/60))"
   ]
  },
  {
   "cell_type": "markdown",
   "id": "207ca45a-37ae-427c-bcdb-de5cac007ce8",
   "metadata": {},
   "source": [
    "### Saving parameters after training"
   ]
  },
  {
   "cell_type": "code",
   "execution_count": null,
   "id": "f608ab73-a4d3-457a-9f02-eb9648f9a138",
   "metadata": {},
   "outputs": [],
   "source": [
    "encoder.save_weights('./trained_model/lstm_encoder_test.h5')\n",
    "decoder.save_weights('./trained_model/lstm_decoder_test.h5')"
   ]
  }
 ],
 "metadata": {
  "interpreter": {
   "hash": "76f6d8ee485eef5af4ffb8cdb1c2de7a67df1df8db2996238e09f683622e1be8"
  },
  "kernelspec": {
   "display_name": "Python 3 (ipykernel)",
   "language": "python",
   "name": "python3"
  },
  "language_info": {
   "codemirror_mode": {
    "name": "ipython",
    "version": 3
   },
   "file_extension": ".py",
   "mimetype": "text/x-python",
   "name": "python",
   "nbconvert_exporter": "python",
   "pygments_lexer": "ipython3",
   "version": "3.8.10"
  }
 },
 "nbformat": 4,
 "nbformat_minor": 5
}
